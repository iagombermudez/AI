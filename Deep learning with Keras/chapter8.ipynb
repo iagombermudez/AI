{
  "cells": [
    {
      "cell_type": "markdown",
      "metadata": {
        "id": "dX8HMKXCsDDu"
      },
      "source": [
        "# Chapter 8"
      ]
    },
    {
      "cell_type": "markdown",
      "metadata": {
        "id": "KVyOSq-FsDDv"
      },
      "source": [
        "## MNIST example but using convolutional networks"
      ]
    },
    {
      "cell_type": "code",
      "execution_count": null,
      "metadata": {
        "id": "akz7jpHvsDDv"
      },
      "outputs": [],
      "source": [
        "from tensorflow import keras\n",
        "from keras import layers"
      ]
    },
    {
      "cell_type": "code",
      "execution_count": null,
      "metadata": {
        "id": "dqeNSZsQsDDw"
      },
      "outputs": [],
      "source": [
        "inputs = keras.Input(shape=(28, 28, 1))\n",
        "x = layers.Conv2D(filters=32, kernel_size=3, activation='relu')(inputs)\n",
        "x = layers.MaxPooling2D(pool_size=2)(x)\n",
        "x = layers.Conv2D(filters=64, kernel_size=3, activation='relu')(x)\n",
        "x = layers.MaxPooling2D(pool_size=2)(x)\n",
        "x = layers.Conv2D(filters=128, kernel_size=3, activation='relu')(x)\n",
        "x = layers.Flatten()(x)\n",
        "outputs = layers.Dense(10, activation='softmax')(x)\n",
        "model = keras.Model(inputs=inputs, outputs=outputs)"
      ]
    },
    {
      "cell_type": "code",
      "execution_count": null,
      "metadata": {
        "id": "0TTB5O84sDDw",
        "outputId": "75c152c5-d6ca-459c-9702-6a7508f74bb7"
      },
      "outputs": [
        {
          "data": {
            "text/html": [
              "<pre style=\"white-space:pre;overflow-x:auto;line-height:normal;font-family:Menlo,'DejaVu Sans Mono',consolas,'Courier New',monospace\"><span style=\"font-weight: bold\">Model: \"functional_1\"</span>\n",
              "</pre>\n"
            ],
            "text/plain": [
              "\u001b[1mModel: \"functional_1\"\u001b[0m\n"
            ]
          },
          "metadata": {},
          "output_type": "display_data"
        },
        {
          "data": {
            "text/html": [
              "<pre style=\"white-space:pre;overflow-x:auto;line-height:normal;font-family:Menlo,'DejaVu Sans Mono',consolas,'Courier New',monospace\">┏━━━━━━━━━━━━━━━━━━━━━━━━━━━━━━━━━┳━━━━━━━━━━━━━━━━━━━━━━━━┳━━━━━━━━━━━━━━━┓\n",
              "┃<span style=\"font-weight: bold\"> Layer (type)                    </span>┃<span style=\"font-weight: bold\"> Output Shape           </span>┃<span style=\"font-weight: bold\">       Param # </span>┃\n",
              "┡━━━━━━━━━━━━━━━━━━━━━━━━━━━━━━━━━╇━━━━━━━━━━━━━━━━━━━━━━━━╇━━━━━━━━━━━━━━━┩\n",
              "│ input_layer (<span style=\"color: #0087ff; text-decoration-color: #0087ff\">InputLayer</span>)        │ (<span style=\"color: #00d7ff; text-decoration-color: #00d7ff\">None</span>, <span style=\"color: #00af00; text-decoration-color: #00af00\">28</span>, <span style=\"color: #00af00; text-decoration-color: #00af00\">28</span>, <span style=\"color: #00af00; text-decoration-color: #00af00\">1</span>)      │             <span style=\"color: #00af00; text-decoration-color: #00af00\">0</span> │\n",
              "├─────────────────────────────────┼────────────────────────┼───────────────┤\n",
              "│ conv2d (<span style=\"color: #0087ff; text-decoration-color: #0087ff\">Conv2D</span>)                 │ (<span style=\"color: #00d7ff; text-decoration-color: #00d7ff\">None</span>, <span style=\"color: #00af00; text-decoration-color: #00af00\">26</span>, <span style=\"color: #00af00; text-decoration-color: #00af00\">26</span>, <span style=\"color: #00af00; text-decoration-color: #00af00\">32</span>)     │           <span style=\"color: #00af00; text-decoration-color: #00af00\">320</span> │\n",
              "├─────────────────────────────────┼────────────────────────┼───────────────┤\n",
              "│ max_pooling2d (<span style=\"color: #0087ff; text-decoration-color: #0087ff\">MaxPooling2D</span>)    │ (<span style=\"color: #00d7ff; text-decoration-color: #00d7ff\">None</span>, <span style=\"color: #00af00; text-decoration-color: #00af00\">13</span>, <span style=\"color: #00af00; text-decoration-color: #00af00\">13</span>, <span style=\"color: #00af00; text-decoration-color: #00af00\">32</span>)     │             <span style=\"color: #00af00; text-decoration-color: #00af00\">0</span> │\n",
              "├─────────────────────────────────┼────────────────────────┼───────────────┤\n",
              "│ conv2d_1 (<span style=\"color: #0087ff; text-decoration-color: #0087ff\">Conv2D</span>)               │ (<span style=\"color: #00d7ff; text-decoration-color: #00d7ff\">None</span>, <span style=\"color: #00af00; text-decoration-color: #00af00\">11</span>, <span style=\"color: #00af00; text-decoration-color: #00af00\">11</span>, <span style=\"color: #00af00; text-decoration-color: #00af00\">64</span>)     │        <span style=\"color: #00af00; text-decoration-color: #00af00\">18,496</span> │\n",
              "├─────────────────────────────────┼────────────────────────┼───────────────┤\n",
              "│ max_pooling2d_1 (<span style=\"color: #0087ff; text-decoration-color: #0087ff\">MaxPooling2D</span>)  │ (<span style=\"color: #00d7ff; text-decoration-color: #00d7ff\">None</span>, <span style=\"color: #00af00; text-decoration-color: #00af00\">5</span>, <span style=\"color: #00af00; text-decoration-color: #00af00\">5</span>, <span style=\"color: #00af00; text-decoration-color: #00af00\">64</span>)       │             <span style=\"color: #00af00; text-decoration-color: #00af00\">0</span> │\n",
              "├─────────────────────────────────┼────────────────────────┼───────────────┤\n",
              "│ conv2d_2 (<span style=\"color: #0087ff; text-decoration-color: #0087ff\">Conv2D</span>)               │ (<span style=\"color: #00d7ff; text-decoration-color: #00d7ff\">None</span>, <span style=\"color: #00af00; text-decoration-color: #00af00\">3</span>, <span style=\"color: #00af00; text-decoration-color: #00af00\">3</span>, <span style=\"color: #00af00; text-decoration-color: #00af00\">128</span>)      │        <span style=\"color: #00af00; text-decoration-color: #00af00\">73,856</span> │\n",
              "├─────────────────────────────────┼────────────────────────┼───────────────┤\n",
              "│ flatten (<span style=\"color: #0087ff; text-decoration-color: #0087ff\">Flatten</span>)               │ (<span style=\"color: #00d7ff; text-decoration-color: #00d7ff\">None</span>, <span style=\"color: #00af00; text-decoration-color: #00af00\">1152</span>)           │             <span style=\"color: #00af00; text-decoration-color: #00af00\">0</span> │\n",
              "├─────────────────────────────────┼────────────────────────┼───────────────┤\n",
              "│ dense (<span style=\"color: #0087ff; text-decoration-color: #0087ff\">Dense</span>)                   │ (<span style=\"color: #00d7ff; text-decoration-color: #00d7ff\">None</span>, <span style=\"color: #00af00; text-decoration-color: #00af00\">10</span>)             │        <span style=\"color: #00af00; text-decoration-color: #00af00\">11,530</span> │\n",
              "└─────────────────────────────────┴────────────────────────┴───────────────┘\n",
              "</pre>\n"
            ],
            "text/plain": [
              "┏━━━━━━━━━━━━━━━━━━━━━━━━━━━━━━━━━┳━━━━━━━━━━━━━━━━━━━━━━━━┳━━━━━━━━━━━━━━━┓\n",
              "┃\u001b[1m \u001b[0m\u001b[1mLayer (type)                   \u001b[0m\u001b[1m \u001b[0m┃\u001b[1m \u001b[0m\u001b[1mOutput Shape          \u001b[0m\u001b[1m \u001b[0m┃\u001b[1m \u001b[0m\u001b[1m      Param #\u001b[0m\u001b[1m \u001b[0m┃\n",
              "┡━━━━━━━━━━━━━━━━━━━━━━━━━━━━━━━━━╇━━━━━━━━━━━━━━━━━━━━━━━━╇━━━━━━━━━━━━━━━┩\n",
              "│ input_layer (\u001b[38;5;33mInputLayer\u001b[0m)        │ (\u001b[38;5;45mNone\u001b[0m, \u001b[38;5;34m28\u001b[0m, \u001b[38;5;34m28\u001b[0m, \u001b[38;5;34m1\u001b[0m)      │             \u001b[38;5;34m0\u001b[0m │\n",
              "├─────────────────────────────────┼────────────────────────┼───────────────┤\n",
              "│ conv2d (\u001b[38;5;33mConv2D\u001b[0m)                 │ (\u001b[38;5;45mNone\u001b[0m, \u001b[38;5;34m26\u001b[0m, \u001b[38;5;34m26\u001b[0m, \u001b[38;5;34m32\u001b[0m)     │           \u001b[38;5;34m320\u001b[0m │\n",
              "├─────────────────────────────────┼────────────────────────┼───────────────┤\n",
              "│ max_pooling2d (\u001b[38;5;33mMaxPooling2D\u001b[0m)    │ (\u001b[38;5;45mNone\u001b[0m, \u001b[38;5;34m13\u001b[0m, \u001b[38;5;34m13\u001b[0m, \u001b[38;5;34m32\u001b[0m)     │             \u001b[38;5;34m0\u001b[0m │\n",
              "├─────────────────────────────────┼────────────────────────┼───────────────┤\n",
              "│ conv2d_1 (\u001b[38;5;33mConv2D\u001b[0m)               │ (\u001b[38;5;45mNone\u001b[0m, \u001b[38;5;34m11\u001b[0m, \u001b[38;5;34m11\u001b[0m, \u001b[38;5;34m64\u001b[0m)     │        \u001b[38;5;34m18,496\u001b[0m │\n",
              "├─────────────────────────────────┼────────────────────────┼───────────────┤\n",
              "│ max_pooling2d_1 (\u001b[38;5;33mMaxPooling2D\u001b[0m)  │ (\u001b[38;5;45mNone\u001b[0m, \u001b[38;5;34m5\u001b[0m, \u001b[38;5;34m5\u001b[0m, \u001b[38;5;34m64\u001b[0m)       │             \u001b[38;5;34m0\u001b[0m │\n",
              "├─────────────────────────────────┼────────────────────────┼───────────────┤\n",
              "│ conv2d_2 (\u001b[38;5;33mConv2D\u001b[0m)               │ (\u001b[38;5;45mNone\u001b[0m, \u001b[38;5;34m3\u001b[0m, \u001b[38;5;34m3\u001b[0m, \u001b[38;5;34m128\u001b[0m)      │        \u001b[38;5;34m73,856\u001b[0m │\n",
              "├─────────────────────────────────┼────────────────────────┼───────────────┤\n",
              "│ flatten (\u001b[38;5;33mFlatten\u001b[0m)               │ (\u001b[38;5;45mNone\u001b[0m, \u001b[38;5;34m1152\u001b[0m)           │             \u001b[38;5;34m0\u001b[0m │\n",
              "├─────────────────────────────────┼────────────────────────┼───────────────┤\n",
              "│ dense (\u001b[38;5;33mDense\u001b[0m)                   │ (\u001b[38;5;45mNone\u001b[0m, \u001b[38;5;34m10\u001b[0m)             │        \u001b[38;5;34m11,530\u001b[0m │\n",
              "└─────────────────────────────────┴────────────────────────┴───────────────┘\n"
            ]
          },
          "metadata": {},
          "output_type": "display_data"
        },
        {
          "data": {
            "text/html": [
              "<pre style=\"white-space:pre;overflow-x:auto;line-height:normal;font-family:Menlo,'DejaVu Sans Mono',consolas,'Courier New',monospace\"><span style=\"font-weight: bold\"> Total params: </span><span style=\"color: #00af00; text-decoration-color: #00af00\">104,202</span> (407.04 KB)\n",
              "</pre>\n"
            ],
            "text/plain": [
              "\u001b[1m Total params: \u001b[0m\u001b[38;5;34m104,202\u001b[0m (407.04 KB)\n"
            ]
          },
          "metadata": {},
          "output_type": "display_data"
        },
        {
          "data": {
            "text/html": [
              "<pre style=\"white-space:pre;overflow-x:auto;line-height:normal;font-family:Menlo,'DejaVu Sans Mono',consolas,'Courier New',monospace\"><span style=\"font-weight: bold\"> Trainable params: </span><span style=\"color: #00af00; text-decoration-color: #00af00\">104,202</span> (407.04 KB)\n",
              "</pre>\n"
            ],
            "text/plain": [
              "\u001b[1m Trainable params: \u001b[0m\u001b[38;5;34m104,202\u001b[0m (407.04 KB)\n"
            ]
          },
          "metadata": {},
          "output_type": "display_data"
        },
        {
          "data": {
            "text/html": [
              "<pre style=\"white-space:pre;overflow-x:auto;line-height:normal;font-family:Menlo,'DejaVu Sans Mono',consolas,'Courier New',monospace\"><span style=\"font-weight: bold\"> Non-trainable params: </span><span style=\"color: #00af00; text-decoration-color: #00af00\">0</span> (0.00 B)\n",
              "</pre>\n"
            ],
            "text/plain": [
              "\u001b[1m Non-trainable params: \u001b[0m\u001b[38;5;34m0\u001b[0m (0.00 B)\n"
            ]
          },
          "metadata": {},
          "output_type": "display_data"
        }
      ],
      "source": [
        "model.summary()"
      ]
    },
    {
      "cell_type": "code",
      "execution_count": null,
      "metadata": {
        "id": "aO2mgMgPsDDx",
        "outputId": "23bee242-f30a-4d85-ed27-4ce08f327057"
      },
      "outputs": [
        {
          "name": "stdout",
          "output_type": "stream",
          "text": [
            "Epoch 1/5\n",
            "\u001b[1m938/938\u001b[0m \u001b[32m━━━━━━━━━━━━━━━━━━━━\u001b[0m\u001b[37m\u001b[0m \u001b[1m12s\u001b[0m 12ms/step - accuracy: 0.8824 - loss: 0.3778\n",
            "Epoch 2/5\n",
            "\u001b[1m938/938\u001b[0m \u001b[32m━━━━━━━━━━━━━━━━━━━━\u001b[0m\u001b[37m\u001b[0m \u001b[1m11s\u001b[0m 12ms/step - accuracy: 0.9854 - loss: 0.0463\n",
            "Epoch 3/5\n",
            "\u001b[1m938/938\u001b[0m \u001b[32m━━━━━━━━━━━━━━━━━━━━\u001b[0m\u001b[37m\u001b[0m \u001b[1m11s\u001b[0m 12ms/step - accuracy: 0.9899 - loss: 0.0336\n",
            "Epoch 4/5\n",
            "\u001b[1m938/938\u001b[0m \u001b[32m━━━━━━━━━━━━━━━━━━━━\u001b[0m\u001b[37m\u001b[0m \u001b[1m11s\u001b[0m 12ms/step - accuracy: 0.9924 - loss: 0.0228\n",
            "Epoch 5/5\n",
            "\u001b[1m938/938\u001b[0m \u001b[32m━━━━━━━━━━━━━━━━━━━━\u001b[0m\u001b[37m\u001b[0m \u001b[1m12s\u001b[0m 12ms/step - accuracy: 0.9948 - loss: 0.0170\n"
          ]
        },
        {
          "data": {
            "text/plain": [
              "<keras.src.callbacks.history.History at 0x7942972baf50>"
            ]
          },
          "execution_count": 11,
          "metadata": {},
          "output_type": "execute_result"
        }
      ],
      "source": [
        "from keras.datasets import mnist\n",
        "\n",
        "(train_images, train_labels), (test_images, test_labels) = mnist.load_data()\n",
        "train_images = train_images.reshape((60000, 28, 28, 1))\n",
        "train_images = train_images.astype('float32') / 255\n",
        "test_images = test_images.reshape((10000, 28, 28, 1))\n",
        "test_images = test_images.astype('float32') / 255\n",
        "\n",
        "model.compile(optimizer='rmsprop', loss='sparse_categorical_crossentropy', metrics=['accuracy'])\n",
        "model.fit(train_images, train_labels, epochs=5, batch_size=64)\n"
      ]
    },
    {
      "cell_type": "code",
      "execution_count": null,
      "metadata": {
        "id": "6_vvw_RYsDDy",
        "outputId": "22e8d811-5b12-42c7-82a4-1668ac7941b7"
      },
      "outputs": [
        {
          "name": "stdout",
          "output_type": "stream",
          "text": [
            "\u001b[1m313/313\u001b[0m \u001b[32m━━━━━━━━━━━━━━━━━━━━\u001b[0m\u001b[37m\u001b[0m \u001b[1m1s\u001b[0m 2ms/step - accuracy: 0.9879 - loss: 0.0406\n",
            "Test accuracy: 0.991\n"
          ]
        }
      ],
      "source": [
        "test_loss, test_acc = model.evaluate(test_images, test_labels)\n",
        "print(f\"Test accuracy: {test_acc:.3f}\")"
      ]
    },
    {
      "cell_type": "markdown",
      "metadata": {
        "id": "2MVpzO3jsDDy"
      },
      "source": [
        "## Dogs and cats dataset"
      ]
    },
    {
      "cell_type": "code",
      "source": [
        "!pip install opendatasets"
      ],
      "metadata": {
        "id": "w5ui-CtQsO5B",
        "outputId": "bfc7d451-5d27-4e46-fe4d-d94cc7c731e2",
        "colab": {
          "base_uri": "https://localhost:8080/"
        }
      },
      "execution_count": 1,
      "outputs": [
        {
          "output_type": "stream",
          "name": "stdout",
          "text": [
            "Collecting opendatasets\n",
            "  Downloading opendatasets-0.1.22-py3-none-any.whl (15 kB)\n",
            "Requirement already satisfied: tqdm in /usr/local/lib/python3.10/dist-packages (from opendatasets) (4.66.2)\n",
            "Requirement already satisfied: kaggle in /usr/local/lib/python3.10/dist-packages (from opendatasets) (1.5.16)\n",
            "Requirement already satisfied: click in /usr/local/lib/python3.10/dist-packages (from opendatasets) (8.1.7)\n",
            "Requirement already satisfied: six>=1.10 in /usr/local/lib/python3.10/dist-packages (from kaggle->opendatasets) (1.16.0)\n",
            "Requirement already satisfied: certifi in /usr/local/lib/python3.10/dist-packages (from kaggle->opendatasets) (2024.2.2)\n",
            "Requirement already satisfied: python-dateutil in /usr/local/lib/python3.10/dist-packages (from kaggle->opendatasets) (2.8.2)\n",
            "Requirement already satisfied: requests in /usr/local/lib/python3.10/dist-packages (from kaggle->opendatasets) (2.31.0)\n",
            "Requirement already satisfied: python-slugify in /usr/local/lib/python3.10/dist-packages (from kaggle->opendatasets) (8.0.4)\n",
            "Requirement already satisfied: urllib3 in /usr/local/lib/python3.10/dist-packages (from kaggle->opendatasets) (2.0.7)\n",
            "Requirement already satisfied: bleach in /usr/local/lib/python3.10/dist-packages (from kaggle->opendatasets) (6.1.0)\n",
            "Requirement already satisfied: webencodings in /usr/local/lib/python3.10/dist-packages (from bleach->kaggle->opendatasets) (0.5.1)\n",
            "Requirement already satisfied: text-unidecode>=1.3 in /usr/local/lib/python3.10/dist-packages (from python-slugify->kaggle->opendatasets) (1.3)\n",
            "Requirement already satisfied: charset-normalizer<4,>=2 in /usr/local/lib/python3.10/dist-packages (from requests->kaggle->opendatasets) (3.3.2)\n",
            "Requirement already satisfied: idna<4,>=2.5 in /usr/local/lib/python3.10/dist-packages (from requests->kaggle->opendatasets) (3.7)\n",
            "Installing collected packages: opendatasets\n",
            "Successfully installed opendatasets-0.1.22\n"
          ]
        }
      ]
    },
    {
      "cell_type": "code",
      "execution_count": 2,
      "metadata": {
        "id": "SvzE8arzsDDz",
        "outputId": "7435b4fc-2f48-4b49-f82c-7d0d39159b68",
        "colab": {
          "base_uri": "https://localhost:8080/"
        }
      },
      "outputs": [
        {
          "output_type": "stream",
          "name": "stdout",
          "text": [
            "Please provide your Kaggle credentials to download this dataset. Learn more: http://bit.ly/kaggle-creds\n",
            "Your Kaggle username: iagobermudez\n",
            "Your Kaggle Key: ··········\n",
            "Downloading dogs-vs-cats.zip to ./dogs-vs-cats\n"
          ]
        },
        {
          "output_type": "stream",
          "name": "stderr",
          "text": [
            "100%|██████████| 812M/812M [00:39<00:00, 21.4MB/s]\n"
          ]
        },
        {
          "output_type": "stream",
          "name": "stdout",
          "text": [
            "\n",
            "Extracting archive ./dogs-vs-cats/dogs-vs-cats.zip to ./dogs-vs-cats\n"
          ]
        }
      ],
      "source": [
        "import opendatasets as od\n",
        "\n",
        "od.download('https://www.kaggle.com/c/dogs-vs-cats')"
      ]
    },
    {
      "cell_type": "code",
      "source": [
        "%cd /content/dogs-vs-cats\n",
        "\n",
        "# Unzip the files quietly\n",
        "!unzip -qq test1.zip\n",
        "!unzip -qq train.zip"
      ],
      "metadata": {
        "id": "YM6u1UbTsyZB",
        "outputId": "82b291e9-8514-4862-be30-fe9848535f21",
        "colab": {
          "base_uri": "https://localhost:8080/"
        }
      },
      "execution_count": 18,
      "outputs": [
        {
          "output_type": "stream",
          "name": "stdout",
          "text": [
            "/content/dogs-vs-cats\n"
          ]
        }
      ]
    },
    {
      "cell_type": "code",
      "source": [
        "%cd /content\n",
        "!rm -r test1 train"
      ],
      "metadata": {
        "id": "MvRN-knhtpM7",
        "outputId": "bf140968-fe2c-4f77-89da-7fbc18f96243",
        "colab": {
          "base_uri": "https://localhost:8080/"
        }
      },
      "execution_count": 19,
      "outputs": [
        {
          "output_type": "stream",
          "name": "stdout",
          "text": [
            "/content\n"
          ]
        }
      ]
    },
    {
      "cell_type": "code",
      "source": [
        "!rm -r cats_vs_dogs_small"
      ],
      "metadata": {
        "id": "nHzxNty6t7T8"
      },
      "execution_count": 21,
      "outputs": []
    },
    {
      "cell_type": "code",
      "execution_count": 22,
      "metadata": {
        "id": "uu0UA3vEsDDz"
      },
      "outputs": [],
      "source": [
        "import os, shutil, pathlib\n",
        "\n",
        "original_dir = pathlib.Path(\"dogs-vs-cats/train\")\n",
        "new_base_dir = pathlib.Path(\"cats_vs_dogs_small\")\n",
        "\n",
        "def make_subset(subset_name, start_index, end_index):\n",
        "    for category in (\"cat\", \"dog\"):\n",
        "        dir = new_base_dir / subset_name / category\n",
        "        os.makedirs(dir)\n",
        "        fnames = [f\"{category}.{i}.jpg\" for i in range(start_index, end_index)]\n",
        "        for fname in fnames:\n",
        "            shutil.copyfile(src=original_dir / fname,\n",
        "                            dst=dir / fname)\n",
        "\n",
        "make_subset(\"train\", start_index=0, end_index=1000)\n",
        "make_subset(\"validation\", start_index=1000, end_index=1500)\n",
        "make_subset(\"test\", start_index=1500, end_index=2500)"
      ]
    },
    {
      "cell_type": "code",
      "source": [
        "data_augmentation = keras.Sequential(\n",
        "    [\n",
        "        layers.RandomFlip(\"horizontal\"),\n",
        "        layers.RandomRotation(0.1),\n",
        "        layers.RandomZoom(0.2),\n",
        "    ]\n",
        ")"
      ],
      "metadata": {
        "id": "Yu4x1USqu4gk"
      },
      "execution_count": 33,
      "outputs": []
    },
    {
      "cell_type": "code",
      "execution_count": 37,
      "metadata": {
        "id": "YTh2WNPXsDD0"
      },
      "outputs": [],
      "source": [
        "from tensorflow import keras\n",
        "from keras import layers\n",
        "\n",
        "inputs = keras.Input(shape=(180, 180, 3))\n",
        "x = data_augmentation(inputs)\n",
        "x = layers.Rescaling(1./255)(x)\n",
        "x = layers.Conv2D(filters=32, kernel_size=3, activation=\"relu\")(x)\n",
        "x = layers.MaxPooling2D(pool_size=2)(x)\n",
        "x = layers.Conv2D(filters=64, kernel_size=3, activation=\"relu\")(x)\n",
        "x = layers.MaxPooling2D(pool_size=2)(x)\n",
        "x = layers.Conv2D(filters=128, kernel_size=3, activation=\"relu\")(x)\n",
        "x = layers.MaxPooling2D(pool_size=2)(x)\n",
        "x = layers.Conv2D(filters=256, kernel_size=3, activation=\"relu\")(x)\n",
        "x = layers.MaxPooling2D(pool_size=2)(x)\n",
        "x = layers.Conv2D(filters=256, kernel_size=3, activation=\"relu\")(x)\n",
        "x = layers.Flatten()(x)\n",
        "x = layers.Dropout(0.5)(x)\n",
        "outputs = layers.Dense(1, activation=\"sigmoid\")(x)\n",
        "model = keras.Model(inputs=inputs, outputs=outputs)\n",
        "\n",
        "model.compile(loss=\"binary_crossentropy\",\n",
        "              optimizer=\"rmsprop\",\n",
        "              metrics=[\"accuracy\"])"
      ]
    },
    {
      "cell_type": "markdown",
      "source": [
        "### Data preprocessing"
      ],
      "metadata": {
        "id": "Jc0r2ORRuQGs"
      }
    },
    {
      "cell_type": "code",
      "source": [
        "from keras.utils import image_dataset_from_directory\n",
        "import pathlib\n",
        "\n",
        "new_base_dir = pathlib.Path(\"cats_vs_dogs_small\")\n",
        "train_dataset = image_dataset_from_directory(\n",
        "  new_base_dir / 'train',\n",
        "  image_size=(180, 180),\n",
        "  batch_size=32\n",
        ")\n",
        "\n",
        "test_dataset = image_dataset_from_directory(\n",
        "  new_base_dir / 'test',\n",
        "  image_size=(180, 180),\n",
        "  batch_size=32\n",
        ")\n",
        "\n",
        "validation_dataset = image_dataset_from_directory(\n",
        "  new_base_dir / 'validation',\n",
        "  image_size=(180, 180),\n",
        "  batch_size=32\n",
        ")"
      ],
      "metadata": {
        "id": "C6wgcJYsuNNJ",
        "outputId": "eff91580-5152-42c2-eb50-2dbaf3fa2ed1",
        "colab": {
          "base_uri": "https://localhost:8080/"
        }
      },
      "execution_count": 38,
      "outputs": [
        {
          "output_type": "stream",
          "name": "stdout",
          "text": [
            "Found 2000 files belonging to 2 classes.\n",
            "Found 2000 files belonging to 2 classes.\n",
            "Found 1000 files belonging to 2 classes.\n"
          ]
        }
      ]
    },
    {
      "cell_type": "code",
      "source": [
        "callbacks = [\n",
        "    keras.callbacks.ModelCheckpoint(\n",
        "        filepath=\"convnet_from_scratch_with_augmentation.keras\",\n",
        "        save_best_only=True,\n",
        "        monitor=\"val_loss\")\n",
        "]\n",
        "history = model.fit(\n",
        "    train_dataset,\n",
        "    epochs=100,\n",
        "    validation_data=validation_dataset,\n",
        "    callbacks=callbacks)"
      ],
      "metadata": {
        "id": "IqJ2Tp_XuPb2",
        "outputId": "39e96449-98e2-49c0-fb0e-fe78826602bc",
        "colab": {
          "base_uri": "https://localhost:8080/"
        }
      },
      "execution_count": 39,
      "outputs": [
        {
          "output_type": "stream",
          "name": "stdout",
          "text": [
            "Epoch 1/100\n",
            "63/63 [==============================] - 5s 47ms/step - loss: 0.7035 - accuracy: 0.4945 - val_loss: 0.6940 - val_accuracy: 0.5000\n",
            "Epoch 2/100\n",
            "63/63 [==============================] - 3s 44ms/step - loss: 0.6975 - accuracy: 0.5050 - val_loss: 0.6920 - val_accuracy: 0.5020\n",
            "Epoch 3/100\n",
            "63/63 [==============================] - 3s 44ms/step - loss: 0.6898 - accuracy: 0.5480 - val_loss: 0.6734 - val_accuracy: 0.5940\n",
            "Epoch 4/100\n",
            "63/63 [==============================] - 3s 43ms/step - loss: 0.6685 - accuracy: 0.6180 - val_loss: 0.7173 - val_accuracy: 0.5560\n",
            "Epoch 5/100\n",
            "63/63 [==============================] - 3s 43ms/step - loss: 0.6538 - accuracy: 0.6265 - val_loss: 0.6973 - val_accuracy: 0.5310\n",
            "Epoch 6/100\n",
            "63/63 [==============================] - 3s 43ms/step - loss: 0.6413 - accuracy: 0.6355 - val_loss: 0.8415 - val_accuracy: 0.5360\n",
            "Epoch 7/100\n",
            "63/63 [==============================] - 3s 43ms/step - loss: 0.6347 - accuracy: 0.6500 - val_loss: 0.7804 - val_accuracy: 0.5930\n",
            "Epoch 8/100\n",
            "63/63 [==============================] - 3s 44ms/step - loss: 0.6170 - accuracy: 0.6745 - val_loss: 0.6377 - val_accuracy: 0.6480\n",
            "Epoch 9/100\n",
            "63/63 [==============================] - 3s 44ms/step - loss: 0.5830 - accuracy: 0.6995 - val_loss: 0.5808 - val_accuracy: 0.6880\n",
            "Epoch 10/100\n",
            "63/63 [==============================] - 3s 44ms/step - loss: 0.6053 - accuracy: 0.6875 - val_loss: 0.5509 - val_accuracy: 0.7060\n",
            "Epoch 11/100\n",
            "63/63 [==============================] - 3s 43ms/step - loss: 0.5736 - accuracy: 0.6995 - val_loss: 0.6036 - val_accuracy: 0.6470\n",
            "Epoch 12/100\n",
            "63/63 [==============================] - 3s 44ms/step - loss: 0.5645 - accuracy: 0.7140 - val_loss: 0.6302 - val_accuracy: 0.6950\n",
            "Epoch 13/100\n",
            "63/63 [==============================] - 3s 44ms/step - loss: 0.5721 - accuracy: 0.7085 - val_loss: 0.5324 - val_accuracy: 0.7270\n",
            "Epoch 14/100\n",
            "63/63 [==============================] - 3s 43ms/step - loss: 0.5490 - accuracy: 0.7255 - val_loss: 0.5456 - val_accuracy: 0.7210\n",
            "Epoch 15/100\n",
            "63/63 [==============================] - 3s 44ms/step - loss: 0.5451 - accuracy: 0.7315 - val_loss: 0.5126 - val_accuracy: 0.7400\n",
            "Epoch 16/100\n",
            "63/63 [==============================] - 3s 43ms/step - loss: 0.5257 - accuracy: 0.7425 - val_loss: 0.5313 - val_accuracy: 0.7460\n",
            "Epoch 17/100\n",
            "63/63 [==============================] - 3s 43ms/step - loss: 0.5143 - accuracy: 0.7445 - val_loss: 0.5247 - val_accuracy: 0.7430\n",
            "Epoch 18/100\n",
            "63/63 [==============================] - 3s 44ms/step - loss: 0.4932 - accuracy: 0.7630 - val_loss: 0.4942 - val_accuracy: 0.7540\n",
            "Epoch 19/100\n",
            "63/63 [==============================] - 3s 46ms/step - loss: 0.4942 - accuracy: 0.7685 - val_loss: 0.4629 - val_accuracy: 0.7890\n",
            "Epoch 20/100\n",
            "63/63 [==============================] - 3s 44ms/step - loss: 0.4901 - accuracy: 0.7690 - val_loss: 0.5585 - val_accuracy: 0.7300\n",
            "Epoch 21/100\n",
            "63/63 [==============================] - 3s 43ms/step - loss: 0.4771 - accuracy: 0.7640 - val_loss: 0.4858 - val_accuracy: 0.7720\n",
            "Epoch 22/100\n",
            "63/63 [==============================] - 3s 42ms/step - loss: 0.4490 - accuracy: 0.7845 - val_loss: 0.7060 - val_accuracy: 0.6840\n",
            "Epoch 23/100\n",
            "63/63 [==============================] - 3s 43ms/step - loss: 0.4592 - accuracy: 0.7895 - val_loss: 0.5353 - val_accuracy: 0.7260\n",
            "Epoch 24/100\n",
            "63/63 [==============================] - 3s 44ms/step - loss: 0.4510 - accuracy: 0.7880 - val_loss: 0.4775 - val_accuracy: 0.7870\n",
            "Epoch 25/100\n",
            "63/63 [==============================] - 3s 43ms/step - loss: 0.4402 - accuracy: 0.7975 - val_loss: 0.4649 - val_accuracy: 0.7850\n",
            "Epoch 26/100\n",
            "63/63 [==============================] - 3s 43ms/step - loss: 0.4271 - accuracy: 0.8080 - val_loss: 0.5140 - val_accuracy: 0.7620\n",
            "Epoch 27/100\n",
            "63/63 [==============================] - 3s 44ms/step - loss: 0.4147 - accuracy: 0.8055 - val_loss: 0.4553 - val_accuracy: 0.8030\n",
            "Epoch 28/100\n",
            "63/63 [==============================] - 3s 44ms/step - loss: 0.4097 - accuracy: 0.8165 - val_loss: 0.4340 - val_accuracy: 0.8020\n",
            "Epoch 29/100\n",
            "63/63 [==============================] - 3s 44ms/step - loss: 0.4052 - accuracy: 0.8120 - val_loss: 0.4326 - val_accuracy: 0.8160\n",
            "Epoch 30/100\n",
            "63/63 [==============================] - 3s 43ms/step - loss: 0.3896 - accuracy: 0.8230 - val_loss: 0.4782 - val_accuracy: 0.7980\n",
            "Epoch 31/100\n",
            "63/63 [==============================] - 3s 43ms/step - loss: 0.3853 - accuracy: 0.8205 - val_loss: 0.4382 - val_accuracy: 0.8250\n",
            "Epoch 32/100\n",
            "63/63 [==============================] - 3s 45ms/step - loss: 0.4119 - accuracy: 0.8190 - val_loss: 0.4049 - val_accuracy: 0.8260\n",
            "Epoch 33/100\n",
            "63/63 [==============================] - 3s 43ms/step - loss: 0.3800 - accuracy: 0.8305 - val_loss: 0.4422 - val_accuracy: 0.8130\n",
            "Epoch 34/100\n",
            "63/63 [==============================] - 3s 43ms/step - loss: 0.3613 - accuracy: 0.8465 - val_loss: 0.4521 - val_accuracy: 0.7940\n",
            "Epoch 35/100\n",
            "63/63 [==============================] - 3s 44ms/step - loss: 0.3707 - accuracy: 0.8365 - val_loss: 0.4785 - val_accuracy: 0.7970\n",
            "Epoch 36/100\n",
            "63/63 [==============================] - 3s 44ms/step - loss: 0.3342 - accuracy: 0.8565 - val_loss: 0.4783 - val_accuracy: 0.8020\n",
            "Epoch 37/100\n",
            "63/63 [==============================] - 3s 43ms/step - loss: 0.3572 - accuracy: 0.8460 - val_loss: 0.4094 - val_accuracy: 0.8340\n",
            "Epoch 38/100\n",
            "63/63 [==============================] - 3s 44ms/step - loss: 0.3395 - accuracy: 0.8620 - val_loss: 0.4037 - val_accuracy: 0.8260\n",
            "Epoch 39/100\n",
            "63/63 [==============================] - 3s 43ms/step - loss: 0.3241 - accuracy: 0.8630 - val_loss: 0.4394 - val_accuracy: 0.8190\n",
            "Epoch 40/100\n",
            "63/63 [==============================] - 3s 43ms/step - loss: 0.3279 - accuracy: 0.8530 - val_loss: 0.4947 - val_accuracy: 0.8150\n",
            "Epoch 41/100\n",
            "63/63 [==============================] - 3s 43ms/step - loss: 0.3198 - accuracy: 0.8685 - val_loss: 0.4608 - val_accuracy: 0.8030\n",
            "Epoch 42/100\n",
            "63/63 [==============================] - 3s 43ms/step - loss: 0.3101 - accuracy: 0.8685 - val_loss: 0.5241 - val_accuracy: 0.7870\n",
            "Epoch 43/100\n",
            "63/63 [==============================] - 3s 43ms/step - loss: 0.3007 - accuracy: 0.8595 - val_loss: 0.5760 - val_accuracy: 0.8060\n",
            "Epoch 44/100\n",
            "63/63 [==============================] - 3s 43ms/step - loss: 0.2985 - accuracy: 0.8745 - val_loss: 0.5382 - val_accuracy: 0.7940\n",
            "Epoch 45/100\n",
            "63/63 [==============================] - 3s 42ms/step - loss: 0.2714 - accuracy: 0.8785 - val_loss: 0.4708 - val_accuracy: 0.8260\n",
            "Epoch 46/100\n",
            "63/63 [==============================] - 3s 43ms/step - loss: 0.2856 - accuracy: 0.8740 - val_loss: 0.5011 - val_accuracy: 0.7940\n",
            "Epoch 47/100\n",
            "63/63 [==============================] - 3s 43ms/step - loss: 0.2782 - accuracy: 0.8875 - val_loss: 0.5967 - val_accuracy: 0.8000\n",
            "Epoch 48/100\n",
            "63/63 [==============================] - 3s 43ms/step - loss: 0.2688 - accuracy: 0.8925 - val_loss: 0.5455 - val_accuracy: 0.7850\n",
            "Epoch 49/100\n",
            "63/63 [==============================] - 3s 43ms/step - loss: 0.2801 - accuracy: 0.8900 - val_loss: 0.4297 - val_accuracy: 0.8280\n",
            "Epoch 50/100\n",
            "63/63 [==============================] - 3s 42ms/step - loss: 0.2605 - accuracy: 0.8945 - val_loss: 0.4511 - val_accuracy: 0.8240\n",
            "Epoch 51/100\n",
            "63/63 [==============================] - 3s 43ms/step - loss: 0.2535 - accuracy: 0.8995 - val_loss: 0.4330 - val_accuracy: 0.8440\n",
            "Epoch 52/100\n",
            "63/63 [==============================] - 3s 43ms/step - loss: 0.2486 - accuracy: 0.8975 - val_loss: 0.4383 - val_accuracy: 0.8350\n",
            "Epoch 53/100\n",
            "63/63 [==============================] - 3s 43ms/step - loss: 0.2606 - accuracy: 0.8915 - val_loss: 0.7144 - val_accuracy: 0.7690\n",
            "Epoch 54/100\n",
            "63/63 [==============================] - 3s 44ms/step - loss: 0.2364 - accuracy: 0.9080 - val_loss: 0.4898 - val_accuracy: 0.8210\n",
            "Epoch 55/100\n",
            "63/63 [==============================] - 3s 43ms/step - loss: 0.2328 - accuracy: 0.9040 - val_loss: 0.4859 - val_accuracy: 0.8310\n",
            "Epoch 56/100\n",
            "63/63 [==============================] - 3s 43ms/step - loss: 0.2306 - accuracy: 0.9065 - val_loss: 0.6230 - val_accuracy: 0.8110\n",
            "Epoch 57/100\n",
            "63/63 [==============================] - 3s 43ms/step - loss: 0.2404 - accuracy: 0.9015 - val_loss: 0.6495 - val_accuracy: 0.8370\n",
            "Epoch 58/100\n",
            "63/63 [==============================] - 3s 43ms/step - loss: 0.2588 - accuracy: 0.8995 - val_loss: 0.5385 - val_accuracy: 0.8300\n",
            "Epoch 59/100\n",
            "63/63 [==============================] - 3s 43ms/step - loss: 0.2188 - accuracy: 0.9135 - val_loss: 0.6252 - val_accuracy: 0.8180\n",
            "Epoch 60/100\n",
            "63/63 [==============================] - 3s 43ms/step - loss: 0.2199 - accuracy: 0.9150 - val_loss: 0.5742 - val_accuracy: 0.8400\n",
            "Epoch 61/100\n",
            "63/63 [==============================] - 3s 43ms/step - loss: 0.2303 - accuracy: 0.9140 - val_loss: 0.5943 - val_accuracy: 0.8320\n",
            "Epoch 62/100\n",
            "63/63 [==============================] - 3s 42ms/step - loss: 0.2182 - accuracy: 0.9115 - val_loss: 0.6150 - val_accuracy: 0.8210\n",
            "Epoch 63/100\n",
            "63/63 [==============================] - 3s 43ms/step - loss: 0.2083 - accuracy: 0.9180 - val_loss: 0.6032 - val_accuracy: 0.8010\n",
            "Epoch 64/100\n",
            "63/63 [==============================] - 3s 43ms/step - loss: 0.2225 - accuracy: 0.9120 - val_loss: 0.5603 - val_accuracy: 0.8460\n",
            "Epoch 65/100\n",
            "63/63 [==============================] - 3s 43ms/step - loss: 0.1973 - accuracy: 0.9260 - val_loss: 0.6648 - val_accuracy: 0.8250\n",
            "Epoch 66/100\n",
            "63/63 [==============================] - 3s 42ms/step - loss: 0.2062 - accuracy: 0.9185 - val_loss: 0.5877 - val_accuracy: 0.8450\n",
            "Epoch 67/100\n",
            "63/63 [==============================] - 3s 42ms/step - loss: 0.1963 - accuracy: 0.9225 - val_loss: 0.6139 - val_accuracy: 0.8400\n",
            "Epoch 68/100\n",
            "63/63 [==============================] - 3s 43ms/step - loss: 0.2141 - accuracy: 0.9175 - val_loss: 0.6103 - val_accuracy: 0.8220\n",
            "Epoch 69/100\n",
            "63/63 [==============================] - 3s 43ms/step - loss: 0.1901 - accuracy: 0.9295 - val_loss: 0.6232 - val_accuracy: 0.8390\n",
            "Epoch 70/100\n",
            "63/63 [==============================] - 3s 43ms/step - loss: 0.2018 - accuracy: 0.9255 - val_loss: 0.9318 - val_accuracy: 0.7900\n",
            "Epoch 71/100\n",
            "63/63 [==============================] - 3s 43ms/step - loss: 0.1976 - accuracy: 0.9295 - val_loss: 0.9295 - val_accuracy: 0.8070\n",
            "Epoch 72/100\n",
            "63/63 [==============================] - 3s 43ms/step - loss: 0.1896 - accuracy: 0.9325 - val_loss: 0.7106 - val_accuracy: 0.8100\n",
            "Epoch 73/100\n",
            "63/63 [==============================] - 3s 43ms/step - loss: 0.1703 - accuracy: 0.9270 - val_loss: 0.9606 - val_accuracy: 0.7990\n",
            "Epoch 74/100\n",
            "63/63 [==============================] - 3s 43ms/step - loss: 0.2016 - accuracy: 0.9245 - val_loss: 0.5759 - val_accuracy: 0.8150\n",
            "Epoch 75/100\n",
            "63/63 [==============================] - 3s 43ms/step - loss: 0.1751 - accuracy: 0.9345 - val_loss: 0.6164 - val_accuracy: 0.8290\n",
            "Epoch 76/100\n",
            "63/63 [==============================] - 3s 42ms/step - loss: 0.1758 - accuracy: 0.9365 - val_loss: 0.8513 - val_accuracy: 0.8260\n",
            "Epoch 77/100\n",
            "63/63 [==============================] - 3s 43ms/step - loss: 0.1671 - accuracy: 0.9365 - val_loss: 0.9281 - val_accuracy: 0.8340\n",
            "Epoch 78/100\n",
            "63/63 [==============================] - 3s 42ms/step - loss: 0.1748 - accuracy: 0.9370 - val_loss: 0.7643 - val_accuracy: 0.8000\n",
            "Epoch 79/100\n",
            "63/63 [==============================] - 3s 42ms/step - loss: 0.1896 - accuracy: 0.9290 - val_loss: 0.6308 - val_accuracy: 0.8470\n",
            "Epoch 80/100\n",
            "63/63 [==============================] - 3s 42ms/step - loss: 0.1860 - accuracy: 0.9340 - val_loss: 1.3725 - val_accuracy: 0.7410\n",
            "Epoch 81/100\n",
            "63/63 [==============================] - 3s 43ms/step - loss: 0.1772 - accuracy: 0.9360 - val_loss: 0.8575 - val_accuracy: 0.8020\n",
            "Epoch 82/100\n",
            "63/63 [==============================] - 3s 43ms/step - loss: 0.1671 - accuracy: 0.9470 - val_loss: 0.8782 - val_accuracy: 0.8120\n",
            "Epoch 83/100\n",
            "63/63 [==============================] - 3s 43ms/step - loss: 0.1768 - accuracy: 0.9315 - val_loss: 0.6589 - val_accuracy: 0.8460\n",
            "Epoch 84/100\n",
            "63/63 [==============================] - 3s 43ms/step - loss: 0.1852 - accuracy: 0.9390 - val_loss: 0.6246 - val_accuracy: 0.8530\n",
            "Epoch 85/100\n",
            "63/63 [==============================] - 3s 43ms/step - loss: 0.1785 - accuracy: 0.9355 - val_loss: 0.4885 - val_accuracy: 0.8550\n",
            "Epoch 86/100\n",
            "63/63 [==============================] - 3s 43ms/step - loss: 0.1580 - accuracy: 0.9430 - val_loss: 0.9123 - val_accuracy: 0.8280\n",
            "Epoch 87/100\n",
            "63/63 [==============================] - 3s 43ms/step - loss: 0.1706 - accuracy: 0.9385 - val_loss: 1.1016 - val_accuracy: 0.7860\n",
            "Epoch 88/100\n",
            "63/63 [==============================] - 3s 43ms/step - loss: 0.1486 - accuracy: 0.9420 - val_loss: 0.7809 - val_accuracy: 0.8330\n",
            "Epoch 89/100\n",
            "63/63 [==============================] - 3s 42ms/step - loss: 0.1703 - accuracy: 0.9365 - val_loss: 0.5822 - val_accuracy: 0.8430\n",
            "Epoch 90/100\n",
            "63/63 [==============================] - 3s 43ms/step - loss: 0.1497 - accuracy: 0.9460 - val_loss: 0.6763 - val_accuracy: 0.8420\n",
            "Epoch 91/100\n",
            "63/63 [==============================] - 3s 43ms/step - loss: 0.1749 - accuracy: 0.9400 - val_loss: 0.6858 - val_accuracy: 0.8460\n",
            "Epoch 92/100\n",
            "63/63 [==============================] - 3s 43ms/step - loss: 0.1439 - accuracy: 0.9510 - val_loss: 0.9142 - val_accuracy: 0.8210\n",
            "Epoch 93/100\n",
            "63/63 [==============================] - 3s 43ms/step - loss: 0.1480 - accuracy: 0.9480 - val_loss: 1.1529 - val_accuracy: 0.7970\n",
            "Epoch 94/100\n",
            "63/63 [==============================] - 3s 43ms/step - loss: 0.1388 - accuracy: 0.9480 - val_loss: 0.7531 - val_accuracy: 0.8480\n",
            "Epoch 95/100\n",
            "63/63 [==============================] - 3s 43ms/step - loss: 0.1374 - accuracy: 0.9485 - val_loss: 0.7378 - val_accuracy: 0.8520\n",
            "Epoch 96/100\n",
            "63/63 [==============================] - 3s 42ms/step - loss: 0.1540 - accuracy: 0.9470 - val_loss: 0.5985 - val_accuracy: 0.8690\n",
            "Epoch 97/100\n",
            "63/63 [==============================] - 3s 42ms/step - loss: 0.1708 - accuracy: 0.9480 - val_loss: 0.6765 - val_accuracy: 0.8510\n",
            "Epoch 98/100\n",
            "63/63 [==============================] - 3s 43ms/step - loss: 0.1338 - accuracy: 0.9520 - val_loss: 0.8791 - val_accuracy: 0.8330\n",
            "Epoch 99/100\n",
            "63/63 [==============================] - 3s 43ms/step - loss: 0.1502 - accuracy: 0.9465 - val_loss: 0.5954 - val_accuracy: 0.8690\n",
            "Epoch 100/100\n",
            "63/63 [==============================] - 3s 43ms/step - loss: 0.1628 - accuracy: 0.9425 - val_loss: 0.5636 - val_accuracy: 0.8620\n"
          ]
        }
      ]
    },
    {
      "cell_type": "markdown",
      "source": [
        "### Using a pretrained network"
      ],
      "metadata": {
        "id": "cO2eixozwrmD"
      }
    },
    {
      "cell_type": "code",
      "source": [
        "conv_base = keras.applications.vgg16.VGG16(\n",
        "    weights='imagenet',\n",
        "    include_top=False,\n",
        "    input_shape=(180, 180, 3)\n",
        ")\n",
        "conv_base.trainable = False"
      ],
      "metadata": {
        "id": "koYQwJAJuVBG",
        "outputId": "39627edc-acbd-4cc4-f843-91321cae6fbc",
        "colab": {
          "base_uri": "https://localhost:8080/"
        }
      },
      "execution_count": 40,
      "outputs": [
        {
          "output_type": "stream",
          "name": "stdout",
          "text": [
            "Downloading data from https://storage.googleapis.com/tensorflow/keras-applications/vgg16/vgg16_weights_tf_dim_ordering_tf_kernels_notop.h5\n",
            "58889256/58889256 [==============================] - 4s 0us/step\n"
          ]
        }
      ]
    },
    {
      "cell_type": "code",
      "source": [
        "data_augmentation = keras.Sequential(\n",
        "  [\n",
        "    layers.RandomFlip('horizontal'),\n",
        "    layers.RandomZoom(0.2),\n",
        "    layers.RandomRotation(0.2)\n",
        "  ]\n",
        ")\n",
        "\n",
        "inputs = keras.Input(shape=(180, 180, 3))\n",
        "x = data_augmentation(inputs)\n",
        "x = keras.applications.vgg16.preprocess_input(x)\n",
        "x = conv_base(x)\n",
        "x = layers.Flatten()(x)\n",
        "x = layers.Dense(256)(x)\n",
        "x = layers.Dropout(0.5)(x)\n",
        "outputs = layers.Dense(1, activation='sigmoid')(x)\n",
        "model = keras.Model(inputs=inputs, outputs=outputs)\n",
        "model.compile(loss='binary_crossentropy', optimizer='rmsprop', metrics=['accuracy'])"
      ],
      "metadata": {
        "id": "6_BQ9BgFwzJY"
      },
      "execution_count": 44,
      "outputs": []
    },
    {
      "cell_type": "code",
      "source": [
        "history = model.fit(\n",
        "    train_dataset,\n",
        "    epochs=50,\n",
        "    validation_data=validation_dataset\n",
        ")"
      ],
      "metadata": {
        "id": "hM26W6ClxuY_",
        "outputId": "bafefe15-af2c-4103-ec08-fdae2cb3beeb",
        "colab": {
          "base_uri": "https://localhost:8080/"
        }
      },
      "execution_count": 48,
      "outputs": [
        {
          "output_type": "stream",
          "name": "stdout",
          "text": [
            "Epoch 1/50\n",
            "63/63 [==============================] - 10s 151ms/step - loss: 8.3619 - accuracy: 0.9340 - val_loss: 2.9891 - val_accuracy: 0.9750\n",
            "Epoch 2/50\n",
            "63/63 [==============================] - 10s 152ms/step - loss: 7.6512 - accuracy: 0.9405 - val_loss: 2.8699 - val_accuracy: 0.9760\n",
            "Epoch 3/50\n",
            "63/63 [==============================] - 9s 148ms/step - loss: 8.0229 - accuracy: 0.9350 - val_loss: 2.4383 - val_accuracy: 0.9780\n",
            "Epoch 4/50\n",
            "63/63 [==============================] - 9s 145ms/step - loss: 4.3935 - accuracy: 0.9505 - val_loss: 9.7510 - val_accuracy: 0.9450\n",
            "Epoch 5/50\n",
            "63/63 [==============================] - 9s 144ms/step - loss: 5.4195 - accuracy: 0.9435 - val_loss: 2.3014 - val_accuracy: 0.9820\n",
            "Epoch 6/50\n",
            "63/63 [==============================] - 9s 143ms/step - loss: 5.2727 - accuracy: 0.9485 - val_loss: 1.7475 - val_accuracy: 0.9790\n",
            "Epoch 7/50\n",
            "63/63 [==============================] - 9s 143ms/step - loss: 4.3486 - accuracy: 0.9535 - val_loss: 2.0500 - val_accuracy: 0.9820\n",
            "Epoch 8/50\n",
            "63/63 [==============================] - 9s 144ms/step - loss: 2.7225 - accuracy: 0.9615 - val_loss: 2.7908 - val_accuracy: 0.9700\n",
            "Epoch 9/50\n",
            "63/63 [==============================] - 9s 145ms/step - loss: 3.9434 - accuracy: 0.9475 - val_loss: 2.5114 - val_accuracy: 0.9760\n",
            "Epoch 10/50\n",
            "63/63 [==============================] - 9s 146ms/step - loss: 2.6854 - accuracy: 0.9545 - val_loss: 1.1080 - val_accuracy: 0.9850\n",
            "Epoch 11/50\n",
            "63/63 [==============================] - 9s 146ms/step - loss: 2.5228 - accuracy: 0.9525 - val_loss: 0.7834 - val_accuracy: 0.9870\n",
            "Epoch 12/50\n",
            "63/63 [==============================] - 9s 145ms/step - loss: 1.8481 - accuracy: 0.9585 - val_loss: 1.3246 - val_accuracy: 0.9800\n",
            "Epoch 13/50\n",
            "63/63 [==============================] - 9s 145ms/step - loss: 1.3884 - accuracy: 0.9640 - val_loss: 0.8883 - val_accuracy: 0.9810\n",
            "Epoch 14/50\n",
            "63/63 [==============================] - 9s 145ms/step - loss: 1.2169 - accuracy: 0.9655 - val_loss: 0.7315 - val_accuracy: 0.9780\n",
            "Epoch 15/50\n",
            "63/63 [==============================] - 9s 145ms/step - loss: 1.0976 - accuracy: 0.9680 - val_loss: 0.7850 - val_accuracy: 0.9850\n",
            "Epoch 16/50\n",
            "63/63 [==============================] - 9s 145ms/step - loss: 1.2964 - accuracy: 0.9525 - val_loss: 0.6796 - val_accuracy: 0.9800\n",
            "Epoch 17/50\n",
            "63/63 [==============================] - 9s 144ms/step - loss: 1.0023 - accuracy: 0.9570 - val_loss: 1.0334 - val_accuracy: 0.9760\n",
            "Epoch 18/50\n",
            "63/63 [==============================] - 9s 144ms/step - loss: 0.9376 - accuracy: 0.9625 - val_loss: 0.4747 - val_accuracy: 0.9820\n",
            "Epoch 19/50\n",
            "63/63 [==============================] - 9s 144ms/step - loss: 0.8742 - accuracy: 0.9580 - val_loss: 0.5340 - val_accuracy: 0.9800\n",
            "Epoch 20/50\n",
            "63/63 [==============================] - 9s 145ms/step - loss: 0.8095 - accuracy: 0.9575 - val_loss: 0.7817 - val_accuracy: 0.9730\n",
            "Epoch 21/50\n",
            "63/63 [==============================] - 9s 145ms/step - loss: 0.5770 - accuracy: 0.9635 - val_loss: 0.5601 - val_accuracy: 0.9780\n",
            "Epoch 22/50\n",
            "63/63 [==============================] - 9s 144ms/step - loss: 0.6303 - accuracy: 0.9675 - val_loss: 1.0453 - val_accuracy: 0.9690\n",
            "Epoch 23/50\n",
            "63/63 [==============================] - 9s 145ms/step - loss: 0.7375 - accuracy: 0.9560 - val_loss: 0.6327 - val_accuracy: 0.9720\n",
            "Epoch 24/50\n",
            "63/63 [==============================] - 9s 145ms/step - loss: 0.7479 - accuracy: 0.9545 - val_loss: 0.4917 - val_accuracy: 0.9860\n",
            "Epoch 25/50\n",
            "63/63 [==============================] - 9s 145ms/step - loss: 0.7818 - accuracy: 0.9555 - val_loss: 0.4615 - val_accuracy: 0.9810\n",
            "Epoch 26/50\n",
            "63/63 [==============================] - 9s 145ms/step - loss: 0.6700 - accuracy: 0.9600 - val_loss: 0.4520 - val_accuracy: 0.9790\n",
            "Epoch 27/50\n",
            "63/63 [==============================] - 9s 145ms/step - loss: 0.5857 - accuracy: 0.9675 - val_loss: 0.5199 - val_accuracy: 0.9810\n",
            "Epoch 28/50\n",
            "63/63 [==============================] - 9s 145ms/step - loss: 0.5561 - accuracy: 0.9710 - val_loss: 0.4847 - val_accuracy: 0.9730\n",
            "Epoch 29/50\n",
            "63/63 [==============================] - 9s 145ms/step - loss: 0.6853 - accuracy: 0.9650 - val_loss: 0.3525 - val_accuracy: 0.9820\n",
            "Epoch 30/50\n",
            "63/63 [==============================] - 9s 145ms/step - loss: 0.6849 - accuracy: 0.9655 - val_loss: 0.6981 - val_accuracy: 0.9810\n",
            "Epoch 31/50\n",
            "63/63 [==============================] - 9s 145ms/step - loss: 0.5932 - accuracy: 0.9645 - val_loss: 0.3934 - val_accuracy: 0.9820\n",
            "Epoch 32/50\n",
            "63/63 [==============================] - 9s 145ms/step - loss: 0.6153 - accuracy: 0.9640 - val_loss: 0.5133 - val_accuracy: 0.9820\n",
            "Epoch 33/50\n",
            "63/63 [==============================] - 9s 144ms/step - loss: 0.5570 - accuracy: 0.9700 - val_loss: 0.5479 - val_accuracy: 0.9790\n",
            "Epoch 34/50\n",
            "63/63 [==============================] - 9s 145ms/step - loss: 0.5794 - accuracy: 0.9665 - val_loss: 0.7175 - val_accuracy: 0.9840\n",
            "Epoch 35/50\n",
            "63/63 [==============================] - 9s 145ms/step - loss: 0.5052 - accuracy: 0.9720 - val_loss: 1.1478 - val_accuracy: 0.9640\n",
            "Epoch 36/50\n",
            "63/63 [==============================] - 9s 145ms/step - loss: 0.7073 - accuracy: 0.9700 - val_loss: 1.8149 - val_accuracy: 0.9660\n",
            "Epoch 37/50\n",
            "63/63 [==============================] - 9s 144ms/step - loss: 0.6312 - accuracy: 0.9695 - val_loss: 0.5840 - val_accuracy: 0.9820\n",
            "Epoch 38/50\n",
            "63/63 [==============================] - 9s 145ms/step - loss: 0.7440 - accuracy: 0.9665 - val_loss: 0.5937 - val_accuracy: 0.9740\n",
            "Epoch 39/50\n",
            "63/63 [==============================] - 9s 145ms/step - loss: 0.6849 - accuracy: 0.9640 - val_loss: 0.5471 - val_accuracy: 0.9790\n",
            "Epoch 40/50\n",
            "63/63 [==============================] - 9s 145ms/step - loss: 0.5279 - accuracy: 0.9685 - val_loss: 0.5734 - val_accuracy: 0.9850\n",
            "Epoch 41/50\n",
            "63/63 [==============================] - 9s 145ms/step - loss: 0.6819 - accuracy: 0.9655 - val_loss: 0.7903 - val_accuracy: 0.9780\n",
            "Epoch 42/50\n",
            "63/63 [==============================] - 9s 145ms/step - loss: 0.6088 - accuracy: 0.9710 - val_loss: 0.6106 - val_accuracy: 0.9780\n",
            "Epoch 43/50\n",
            "63/63 [==============================] - 9s 145ms/step - loss: 0.6802 - accuracy: 0.9630 - val_loss: 1.1091 - val_accuracy: 0.9730\n",
            "Epoch 44/50\n",
            "63/63 [==============================] - 9s 145ms/step - loss: 0.5816 - accuracy: 0.9685 - val_loss: 0.4750 - val_accuracy: 0.9820\n",
            "Epoch 45/50\n",
            "63/63 [==============================] - 9s 145ms/step - loss: 0.5837 - accuracy: 0.9690 - val_loss: 0.5850 - val_accuracy: 0.9820\n",
            "Epoch 46/50\n",
            "63/63 [==============================] - 9s 145ms/step - loss: 0.6196 - accuracy: 0.9705 - val_loss: 1.2318 - val_accuracy: 0.9710\n",
            "Epoch 47/50\n",
            "63/63 [==============================] - 9s 145ms/step - loss: 0.7383 - accuracy: 0.9690 - val_loss: 0.7237 - val_accuracy: 0.9730\n",
            "Epoch 48/50\n",
            "63/63 [==============================] - 9s 145ms/step - loss: 0.6981 - accuracy: 0.9650 - val_loss: 1.0390 - val_accuracy: 0.9770\n",
            "Epoch 49/50\n",
            "63/63 [==============================] - 9s 145ms/step - loss: 0.6234 - accuracy: 0.9690 - val_loss: 0.7179 - val_accuracy: 0.9810\n",
            "Epoch 50/50\n",
            "63/63 [==============================] - 9s 145ms/step - loss: 0.7080 - accuracy: 0.9655 - val_loss: 0.4956 - val_accuracy: 0.9830\n"
          ]
        }
      ]
    },
    {
      "cell_type": "markdown",
      "source": [
        "### Fine tuning"
      ],
      "metadata": {
        "id": "nNtAUD-A0xbL"
      }
    },
    {
      "cell_type": "code",
      "source": [
        "conv_base.trainable = True\n",
        "for layer in conv_base.layers[:-4]:\n",
        "  layer.trainable = False"
      ],
      "metadata": {
        "id": "CXsEeyaMycp6"
      },
      "execution_count": 53,
      "outputs": []
    },
    {
      "cell_type": "code",
      "source": [
        "model.compile(optimizer=keras.optimizers.RMSprop(learning_rate=1e-5),\n",
        "              loss='binary_crossentropy',\n",
        "              metrics=['accuracy'])\n",
        "model.fit(train_dataset,\n",
        "          epochs=30,\n",
        "          validation_data=validation_dataset)"
      ],
      "metadata": {
        "id": "hhOwAt_g1ALW",
        "outputId": "455af135-a46e-462e-8bd2-add7e21f3344",
        "colab": {
          "base_uri": "https://localhost:8080/"
        }
      },
      "execution_count": 57,
      "outputs": [
        {
          "output_type": "stream",
          "name": "stdout",
          "text": [
            "Epoch 1/30\n",
            "63/63 [==============================] - 13s 172ms/step - loss: 0.3516 - accuracy: 0.9770 - val_loss: 0.4059 - val_accuracy: 0.9840\n",
            "Epoch 2/30\n",
            "63/63 [==============================] - 10s 166ms/step - loss: 0.3427 - accuracy: 0.9790 - val_loss: 0.5582 - val_accuracy: 0.9810\n",
            "Epoch 3/30\n",
            "63/63 [==============================] - 10s 162ms/step - loss: 0.4581 - accuracy: 0.9750 - val_loss: 1.2391 - val_accuracy: 0.9720\n",
            "Epoch 4/30\n",
            "63/63 [==============================] - 10s 159ms/step - loss: 0.3047 - accuracy: 0.9795 - val_loss: 0.4262 - val_accuracy: 0.9810\n",
            "Epoch 5/30\n",
            "63/63 [==============================] - 10s 156ms/step - loss: 0.2781 - accuracy: 0.9755 - val_loss: 0.4556 - val_accuracy: 0.9780\n",
            "Epoch 6/30\n",
            "63/63 [==============================] - 10s 157ms/step - loss: 0.3608 - accuracy: 0.9790 - val_loss: 0.4799 - val_accuracy: 0.9800\n",
            "Epoch 7/30\n",
            "63/63 [==============================] - 10s 157ms/step - loss: 0.2004 - accuracy: 0.9840 - val_loss: 0.3832 - val_accuracy: 0.9820\n",
            "Epoch 8/30\n",
            "63/63 [==============================] - 10s 158ms/step - loss: 0.2183 - accuracy: 0.9855 - val_loss: 0.4383 - val_accuracy: 0.9770\n",
            "Epoch 9/30\n",
            "63/63 [==============================] - 10s 159ms/step - loss: 0.2357 - accuracy: 0.9815 - val_loss: 0.4687 - val_accuracy: 0.9770\n",
            "Epoch 10/30\n",
            "63/63 [==============================] - 10s 160ms/step - loss: 0.2031 - accuracy: 0.9810 - val_loss: 0.7305 - val_accuracy: 0.9750\n",
            "Epoch 11/30\n",
            "63/63 [==============================] - 10s 160ms/step - loss: 0.1502 - accuracy: 0.9880 - val_loss: 0.7454 - val_accuracy: 0.9720\n",
            "Epoch 12/30\n",
            "63/63 [==============================] - 10s 159ms/step - loss: 0.1818 - accuracy: 0.9830 - val_loss: 0.6523 - val_accuracy: 0.9740\n",
            "Epoch 13/30\n",
            "63/63 [==============================] - 10s 159ms/step - loss: 0.1177 - accuracy: 0.9870 - val_loss: 0.6836 - val_accuracy: 0.9740\n",
            "Epoch 14/30\n",
            "63/63 [==============================] - 10s 159ms/step - loss: 0.1116 - accuracy: 0.9890 - val_loss: 0.3714 - val_accuracy: 0.9860\n",
            "Epoch 15/30\n",
            "63/63 [==============================] - 10s 159ms/step - loss: 0.1784 - accuracy: 0.9840 - val_loss: 0.3437 - val_accuracy: 0.9830\n",
            "Epoch 16/30\n",
            "63/63 [==============================] - 10s 159ms/step - loss: 0.1068 - accuracy: 0.9865 - val_loss: 0.3398 - val_accuracy: 0.9830\n",
            "Epoch 17/30\n",
            "63/63 [==============================] - 10s 159ms/step - loss: 0.0738 - accuracy: 0.9895 - val_loss: 0.4863 - val_accuracy: 0.9810\n",
            "Epoch 18/30\n",
            "63/63 [==============================] - 10s 159ms/step - loss: 0.0940 - accuracy: 0.9900 - val_loss: 0.3667 - val_accuracy: 0.9830\n",
            "Epoch 19/30\n",
            "63/63 [==============================] - 10s 159ms/step - loss: 0.0979 - accuracy: 0.9890 - val_loss: 0.4192 - val_accuracy: 0.9820\n",
            "Epoch 20/30\n",
            "63/63 [==============================] - 10s 159ms/step - loss: 0.1410 - accuracy: 0.9850 - val_loss: 0.3431 - val_accuracy: 0.9850\n",
            "Epoch 21/30\n",
            "63/63 [==============================] - 10s 159ms/step - loss: 0.0541 - accuracy: 0.9915 - val_loss: 0.3645 - val_accuracy: 0.9840\n",
            "Epoch 22/30\n",
            "63/63 [==============================] - 10s 160ms/step - loss: 0.1133 - accuracy: 0.9910 - val_loss: 0.4475 - val_accuracy: 0.9810\n",
            "Epoch 23/30\n",
            "63/63 [==============================] - 10s 159ms/step - loss: 0.1049 - accuracy: 0.9895 - val_loss: 0.4011 - val_accuracy: 0.9830\n",
            "Epoch 24/30\n",
            "63/63 [==============================] - 10s 159ms/step - loss: 0.1234 - accuracy: 0.9870 - val_loss: 0.3683 - val_accuracy: 0.9840\n",
            "Epoch 25/30\n",
            "63/63 [==============================] - 10s 159ms/step - loss: 0.0685 - accuracy: 0.9925 - val_loss: 0.4041 - val_accuracy: 0.9820\n",
            "Epoch 26/30\n",
            "63/63 [==============================] - 10s 159ms/step - loss: 0.0949 - accuracy: 0.9870 - val_loss: 0.4371 - val_accuracy: 0.9810\n",
            "Epoch 27/30\n",
            "63/63 [==============================] - 10s 159ms/step - loss: 0.0710 - accuracy: 0.9910 - val_loss: 0.4023 - val_accuracy: 0.9800\n",
            "Epoch 28/30\n",
            "63/63 [==============================] - 10s 159ms/step - loss: 0.0457 - accuracy: 0.9925 - val_loss: 0.4604 - val_accuracy: 0.9830\n",
            "Epoch 29/30\n",
            "63/63 [==============================] - 10s 159ms/step - loss: 0.0873 - accuracy: 0.9905 - val_loss: 0.4260 - val_accuracy: 0.9850\n",
            "Epoch 30/30\n",
            "63/63 [==============================] - 10s 159ms/step - loss: 0.0432 - accuracy: 0.9935 - val_loss: 0.4828 - val_accuracy: 0.9820\n"
          ]
        },
        {
          "output_type": "execute_result",
          "data": {
            "text/plain": [
              "<keras.src.callbacks.History at 0x7f4171577190>"
            ]
          },
          "metadata": {},
          "execution_count": 57
        }
      ]
    },
    {
      "cell_type": "code",
      "source": [],
      "metadata": {
        "id": "sRROFN-V1zkV"
      },
      "execution_count": null,
      "outputs": []
    }
  ],
  "metadata": {
    "kernelspec": {
      "display_name": "Python 3",
      "name": "python3"
    },
    "language_info": {
      "codemirror_mode": {
        "name": "ipython",
        "version": 3
      },
      "file_extension": ".py",
      "mimetype": "text/x-python",
      "name": "python",
      "nbconvert_exporter": "python",
      "pygments_lexer": "ipython3",
      "version": "3.11.6"
    },
    "colab": {
      "provenance": [],
      "machine_shape": "hm",
      "gpuType": "T4"
    },
    "accelerator": "GPU"
  },
  "nbformat": 4,
  "nbformat_minor": 0
}