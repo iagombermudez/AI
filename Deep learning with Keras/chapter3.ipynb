{
 "cells": [
  {
   "cell_type": "markdown",
   "metadata": {},
   "source": [
    "### Simple Dense layer with Keras"
   ]
  },
  {
   "cell_type": "code",
   "execution_count": 4,
   "metadata": {},
   "outputs": [],
   "source": [
    "from tensorflow import keras\n",
    "import tensorflow as tf\n",
    "from keras.layers import Layer\n",
    "\n",
    "class SimpleDense(keras.layers.Layer):\n",
    "  def __init__(self, units, activation=None):\n",
    "    super().__init__()\n",
    "    self.units = units\n",
    "    self.activation = activation\n",
    "\n",
    "  def build(self, input_shape):\n",
    "    input_dim = input_shape[-1]\n",
    "    self.W = self.add_weight(shape=(input_dim, self.units), initializer='random_normal')\n",
    "    self.b = self.add_weight(shape=(self.units,), initializer='zeros')\n",
    "\n",
    "  def call(self, inputs):\n",
    "    y = tf.matmul(inputs, self.W) + self.b\n",
    "    if(self.activation is not None):\n",
    "      y= self.activation(y)\n",
    "    return y"
   ]
  },
  {
   "cell_type": "code",
   "execution_count": 5,
   "metadata": {},
   "outputs": [
    {
     "name": "stdout",
     "output_type": "stream",
     "text": [
      "(2, 32)\n"
     ]
    }
   ],
   "source": [
    "dense_layer = SimpleDense(units=32, activation=tf.nn.relu)\n",
    "input_tensor = tf.ones(shape=(2, 784))\n",
    "output_tensor = dense_layer(input_tensor)\n",
    "print(output_tensor.shape)"
   ]
  },
  {
   "cell_type": "markdown",
   "metadata": {},
   "source": [
    "### Using a dense layer directly from the Keras library"
   ]
  },
  {
   "cell_type": "code",
   "execution_count": 8,
   "metadata": {},
   "outputs": [],
   "source": [
    "model = keras.Sequential([\n",
    "  keras.layers.Dense(1)\n",
    "])\n",
    "\n",
    "model.compile(optimizer='rmsprop', loss='mean_squared_error', metrics=['accuracy'])"
   ]
  },
  {
   "cell_type": "code",
   "execution_count": null,
   "metadata": {},
   "outputs": [],
   "source": [
    "# This does not work it's just an example\n",
    "history = model.fit(\n",
    "  inputs,\n",
    "  targets,\n",
    "  epochs=5,\n",
    "  batch_size=128\n",
    ")"
   ]
  },
  {
   "cell_type": "markdown",
   "metadata": {},
   "source": [
    "### Inference"
   ]
  },
  {
   "cell_type": "markdown",
   "metadata": {},
   "source": [
    "It's better to use predict() than to call the model directly because it iteratees over small batches instead of the entire model."
   ]
  },
  {
   "cell_type": "code",
   "execution_count": null,
   "metadata": {},
   "outputs": [],
   "source": [
    "model.predict(new_inputs, batch_size=128)"
   ]
  }
 ],
 "metadata": {
  "kernelspec": {
   "display_name": "base",
   "language": "python",
   "name": "python3"
  },
  "language_info": {
   "codemirror_mode": {
    "name": "ipython",
    "version": 3
   },
   "file_extension": ".py",
   "mimetype": "text/x-python",
   "name": "python",
   "nbconvert_exporter": "python",
   "pygments_lexer": "ipython3",
   "version": "3.11.5"
  }
 },
 "nbformat": 4,
 "nbformat_minor": 2
}
